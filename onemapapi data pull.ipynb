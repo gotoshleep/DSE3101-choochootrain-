{
 "cells": [
  {
   "cell_type": "code",
   "execution_count": 2,
   "id": "6fc70a0d",
   "metadata": {
    "scrolled": true
   },
   "outputs": [
    {
     "name": "stdout",
     "output_type": "stream",
     "text": [
      "libraries loaded\n"
     ]
    }
   ],
   "source": [
    "import pandas as pd\n",
    "import numpy as np\n",
    "import requests\n",
    "import os\n",
    "import json\n",
    "from datetime import datetime\n",
    "import pandas as pd\n",
    "import time  # Import time module for delay\n",
    "import math\n",
    "import csv\n",
    "import os\n",
    "print(\"libraries loaded\")"
   ]
  },
  {
   "cell_type": "code",
   "execution_count": 3,
   "id": "40b7424d",
   "metadata": {},
   "outputs": [
    {
     "name": "stdout",
     "output_type": "stream",
     "text": [
      "C:\\Users\\ashle\\Desktop\\School\\Y3S2\\dse3101\\Project\\Backend\n"
     ]
    }
   ],
   "source": [
    "notebook_dir = os.getcwd()\n",
    "print(notebook_dir)"
   ]
  },
  {
   "cell_type": "code",
   "execution_count": 3,
   "id": "a0d93bcf",
   "metadata": {},
   "outputs": [
    {
     "name": "stdout",
     "output_type": "stream",
     "text": [
      "API key retrieved! Expires on: 2025-04-21 16:57\n"
     ]
    }
   ],
   "source": [
    "#Generate API key if expired, key in your own onemap api email and password below to run the code!\n",
    "\n",
    "email = \"enter_email\"\n",
    "password = \"enter_password\"\n",
    "            \n",
    "url = \"https://www.onemap.gov.sg/api/auth/post/getToken\"\n",
    "            \n",
    "payload = {\n",
    "              \"email\": email,\n",
    "              \"password\":password\n",
    "            } \n",
    "            \n",
    "response = requests.request(\"POST\", url, json=payload)\n",
    "json_response = response.json()\n",
    "API_KEY = json_response[\"access_token\"]\n",
    "expiry_timestamp = int(json_response[\"expiry_timestamp\"])\n",
    "expiry_time = datetime.utcfromtimestamp(expiry_timestamp).strftime('%Y-%m-%d %H:%M')\n",
    "print(f\"API key retrieved! Expires on: {expiry_time}\")"
   ]
  },
  {
   "cell_type": "code",
   "execution_count": 5,
   "id": "2651dff9",
   "metadata": {},
   "outputs": [
    {
     "name": "stdout",
     "output_type": "stream",
     "text": [
      "Data saved to mrt_stations.csv\n"
     ]
    }
   ],
   "source": [
    "import requests\n",
    "import csv\n",
    "\n",
    "# API URL to search for MRT stations\n",
    "url = \"https://www.onemap.gov.sg/api/common/elastic/search\"\n",
    "\n",
    "# Search for MRT STATION by setting the searchVal to \"MRT STATION\"\n",
    "params = {\n",
    "    \"searchVal\": \"mrt station\",  \n",
    "    \"returnGeom\": \"Y\",  \n",
    "    \"getAddrDetails\": \"Y\", \n",
    "}\n",
    "\n",
    "headers = {\"Authorization\": API_KEY}\n",
    "\n",
    "response = requests.get(url, headers=headers, params=params)\n",
    "\n",
    "data = response.json()\n",
    "pages = int(data['totalNumPages'])\n",
    "\n",
    "mrt_stations = []\n",
    "mrt_stations_exit = []\n",
    "\n",
    "for page in range(1, pages + 1):\n",
    "    # Update params for each page\n",
    "    params[\"pageNum\"] = page\n",
    "    response = requests.get(url, headers=headers, params=params)\n",
    "\n",
    "    # Parse the response for the current page\n",
    "    data = response.json()\n",
    "\n",
    "    # Loop through each result and extract building, latitude, and longitude\n",
    "    for item in data['results']:\n",
    "        building = item.get(\"BUILDING\")  # Default if no building name\n",
    "        latitude = item.get(\"LATITUDE\")  # Default if no latitude\n",
    "        longitude = item.get(\"LONGITUDE\")  # Default if no longitude\n",
    "        \n",
    "        if \"EXIT\" in building.upper():\n",
    "            mrt_stations_exit.append({\n",
    "            \"building\": building,\n",
    "            \"latitude\": latitude,\n",
    "            \"longitude\": longitude\n",
    "        })\n",
    "        else:\n",
    "            # Append the extracted information to the list\n",
    "            mrt_stations.append({\n",
    "                \"building\": building,\n",
    "                \"latitude\": latitude,\n",
    "                \"longitude\": longitude\n",
    "            })\n",
    "\n",
    "csv_filename1 = \"mrt_stations.csv\"\n",
    "\n",
    "#with open(csv_filename1, mode='w', newline='') as file:\n",
    "#    writer = csv.DictWriter(file, fieldnames=[\"building\", \"latitude\", \"longitude\"])\n",
    "\n",
    "#    writer.writeheader()\n",
    "\n",
    "#    writer.writerows(mrt_stations)\n",
    "\n",
    "print(f\"Data saved to {csv_filename1}\")\n",
    "\n",
    "\n"
   ]
  },
  {
   "cell_type": "code",
   "execution_count": 5,
   "id": "7f4b8a67",
   "metadata": {
    "scrolled": true
   },
   "outputs": [
    {
     "name": "stdout",
     "output_type": "stream",
     "text": [
      "Coordinates loaded!\n",
      "     Unnamed: 0     Station_Name   longitude  latitude\n",
      "0             1        admiralty  103.800991  1.440589\n",
      "1             2         aljunied  103.882906  1.316433\n",
      "2             3       ang mo kio  103.849558  1.369933\n",
      "3             4          bartley  103.880187  1.342473\n",
      "4             5         bayfront  103.859080  1.281874\n",
      "..          ...              ...         ...       ...\n",
      "138         139  woodlands south  103.793264  1.427396\n",
      "139         140        woodleigh  103.870890  1.339509\n",
      "140         141          yew tee  103.747405  1.397535\n",
      "141         142     yio chu kang  103.844947  1.381756\n",
      "142         143           yishun  103.835005  1.429443\n",
      "\n",
      "[143 rows x 4 columns]\n"
     ]
    }
   ],
   "source": [
    "mrt_coordinates_df = pd.read_csv(\"raw_data/mrt_coordinates.csv\")\n",
    "print(\"Coordinates loaded!\")\n",
    "print(mrt_coordinates_df)"
   ]
  },
  {
   "cell_type": "code",
   "execution_count": 71,
   "id": "0c638f96",
   "metadata": {},
   "outputs": [
    {
     "name": "stdout",
     "output_type": "stream",
     "text": [
      "Walkability distances saved to mrt_walkability_distances.csv\n"
     ]
    }
   ],
   "source": [
    "# we will filter out by harversine distance\n",
    "\n",
    "headers = {\n",
    "    \"Authorization\": API_KEY\n",
    "}\n",
    "def haversine(lat1, lon1, lat2, lon2):\n",
    "    R = 6371  # Earth's radius in km\n",
    "    dlat = math.radians(lat2 - lat1)\n",
    "    dlon = math.radians(lon2 - lon1)\n",
    "    a = math.sin(dlat / 2)**2 + math.cos(math.radians(lat1)) * math.cos(math.radians(lat2)) * math.sin(dlon / 2)**2\n",
    "    c = 2 * math.atan2(math.sqrt(a), math.sqrt(1 - a))\n",
    "    return R * c \n",
    "\n",
    "# Prepare an empty list to store results\n",
    "results = []\n",
    "counter = 0\n",
    "# Loop through each pair of stations\n",
    "for index1, row1 in mrt_coordinates_df.iterrows():\n",
    "    for index2, row2 in mrt_coordinates_df.iterrows():\n",
    "        # Skip if it's the same station\n",
    "        if index1 >= index2:\n",
    "            continue\n",
    "        \n",
    "        # Get the coordinates for the start and end stations\n",
    "        start_lat = row1[\"latitude\"]\n",
    "        start_lon = row1[\"longitude\"]\n",
    "        end_lat = row2[\"latitude\"]\n",
    "        end_lon = row2[\"longitude\"]\n",
    "        distance_km = haversine(start_lat, start_lon, end_lat, end_lon)\n",
    "        \n",
    "        # Skip API request if distance is more than 1 km\n",
    "        if distance_km > 1:\n",
    "            continue\n",
    "        \n",
    "        # Construct the API URL dynamically\n",
    "        url = f\"https://www.onemap.gov.sg/api/public/routingsvc/route?start={start_lat}%2C{start_lon}&end={end_lat}%2C{end_lon}&routeType=walk&maxWalkDistance = 1500\"\n",
    "        \n",
    "        # Make the API request\n",
    "        response = requests.get(url, headers=headers)\n",
    "        \n",
    "        if response.status_code == 200:\n",
    "            # Get the data from the response\n",
    "            data = response.json()\n",
    "            \n",
    "            # Extract total distance (assuming it's in the route_summary part of the response)\n",
    "            total_distance = data['route_summary'].get('total_distance', \"N/A\")\n",
    "            total_time = (data['route_summary'].get('total_distance', \"N/A\"))\n",
    "            \n",
    "            # Create a dictionary for the route info\n",
    "            route_info = {\n",
    "                \"Start_Station\": row1[\"Station_Name\"],\n",
    "                \"End_Station\": row2[\"Station_Name\"],\n",
    "                \"Total_Distance_m\": total_distance,  # Only appending the total distance\n",
    "                \"Total_Time_minutes\" : total_time//60\n",
    "            }\n",
    "            results.append(route_info)\n",
    "        else:\n",
    "            print(f\"Failed to get route between {row1['Station_Name']} and {row2['Station_Name']}, status code {response.status_code}\")\n",
    "        counter+=1\n",
    "        if counter%250 == 0:\n",
    "            time.sleep(60)\n",
    "\n",
    "# Convert the results into a DataFrame\n",
    "results_df = pd.DataFrame(results)\n",
    "\n",
    "# Save the results to a CSV file\n",
    "#results_df.to_csv(\"mrt_walkability_distances.csv\", index=False)\n",
    "results_df.head()\n",
    "print(\"Walkability distances saved to mrt_walkability_distances.csv\")\n"
   ]
  },
  {
   "cell_type": "code",
   "execution_count": 76,
   "id": "f341afbe",
   "metadata": {},
   "outputs": [
    {
     "name": "stdout",
     "output_type": "stream",
     "text": [
      "Failed to get route between changi airport and 95129, status code 404\n"
     ]
    }
   ],
   "source": [
    "# Define the headers for the API request\n",
    "headers = {\n",
    "    \"Authorization\": API_KEY\n",
    "}\n",
    "def haversine(lat1, lon1, lat2, lon2):\n",
    "    R = 6371  # Earth's radius in km\n",
    "    dlat = math.radians(lat2 - lat1)\n",
    "    dlon = math.radians(lon2 - lon1)\n",
    "    a = math.sin(dlat / 2)**2 + math.cos(math.radians(lat1)) * math.cos(math.radians(lat2)) * math.sin(dlon / 2)**2\n",
    "    c = 2 * math.atan2(math.sqrt(a), math.sqrt(1 - a))\n",
    "    return R * c \n",
    "\n",
    "\n",
    "\n",
    "mrt_stations_df = pd.DataFrame(mrt_stations)\n",
    "# print(mrt_stations_df.head())\n",
    "\n",
    "with open(\"bus_stops.json\", 'r') as f:\n",
    "    bus_stops = json.load(f)\n",
    "    \n",
    "    \n",
    "bus_stops = pd.DataFrame(bus_stops)\n",
    "\n",
    "# Prepare an empty list to store results\n",
    "nearby_busstops = []\n",
    "counter = 0 # measure to make sure we do not exceed the api call limit\n",
    "# Loop through each pair of stations\n",
    "for index1, row1 in mrt_coordinates_df.iterrows():\n",
    "    for index2, row2 in bus_stops.iterrows():\n",
    "        \n",
    "        # Get the coordinates for the start and end stations\n",
    "        start_lat = float(row1[\"latitude\"])\n",
    "        start_lon = float(row1[\"longitude\"])\n",
    "        end_lat = float(row2[\"Latitude\"])\n",
    "        end_lon = float(row2[\"Longitude\"])\n",
    "        distance_km = haversine(start_lat, start_lon, end_lat, end_lon)\n",
    "        \n",
    "        # Skip API request if distance is more than .5 km\n",
    "        if distance_km > 0.5:\n",
    "            continue\n",
    "        \n",
    "        # Construct the API URL dynamically\n",
    "        url = f\"https://www.onemap.gov.sg/api/public/routingsvc/route?start={start_lat}%2C{start_lon}&end={end_lat}%2C{end_lon}&routeType=walk&maxWalkDistance=500\"\n",
    "        \n",
    "        # Make the API request\n",
    "        response = requests.get(url, headers=headers)\n",
    "        \n",
    "        if response.status_code == 200:\n",
    "            # Get the data from the response\n",
    "            data = response.json()\n",
    "            \n",
    "            # Extract total distance (assuming it's in the route_summary part of the response)\n",
    "            total_distance = data['route_summary'].get('total_distance', \"N/A\")\n",
    "            total_time = (data['route_summary'].get('total_distance', \"N/A\"))\n",
    "            \n",
    "            # Create a dictionary for the route info\n",
    "            route_info = {\n",
    "                \"MRT station\": row1[\"Station_Name\"],\n",
    "                \"Bus stop\": str(row2[\"BusStopCode\"]),\n",
    "                \"Total_Distance_m\": total_distance,  # Only appending the total distance\n",
    "                \"Total_Time_minutes\" : total_time//60\n",
    "            }\n",
    "            results.append(route_info)\n",
    "        else:\n",
    "            print(f\"Failed to get route between {row1['Station_Name']} and {row2['BusStopCode']}, status code {response.status_code}\")\n",
    "        counter+=1\n",
    "        if counter%250 == 0:\n",
    "            time.sleep(60)\n",
    "\n",
    "# Convert the results into a DataFrame\n",
    "results_df = pd.DataFrame(results)\n",
    "\n",
    "\n",
    "\n"
   ]
  },
  {
   "cell_type": "code",
   "execution_count": 78,
   "id": "376c83bd",
   "metadata": {},
   "outputs": [
    {
     "name": "stdout",
     "output_type": "stream",
     "text": [
      "nearbybusstops saved to nearbybusstops.csv\n"
     ]
    }
   ],
   "source": [
    "#results_df.to_csv(\"nearbybusstops.csv\", index=False)\n",
    "print(\"nearbybusstops saved to nearbybusstops.csv\")"
   ]
  }
 ],
 "metadata": {
  "kernelspec": {
   "display_name": "Python 3 (ipykernel)",
   "language": "python",
   "name": "python3"
  },
  "language_info": {
   "codemirror_mode": {
    "name": "ipython",
    "version": 3
   },
   "file_extension": ".py",
   "mimetype": "text/x-python",
   "name": "python",
   "nbconvert_exporter": "python",
   "pygments_lexer": "ipython3",
   "version": "3.9.13"
  }
 },
 "nbformat": 4,
 "nbformat_minor": 5
}
